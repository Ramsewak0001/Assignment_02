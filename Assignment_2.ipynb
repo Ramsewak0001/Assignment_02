{
 "cells": [
  {
   "cell_type": "markdown",
   "id": "3970fc09-898d-48cd-bbfa-8e579ed1e602",
   "metadata": {},
   "source": [
    "Q1. Which keyword is used to create a function? Create a function to return a list of odd numbers in the range of 1 to 25."
   ]
  },
  {
   "cell_type": "markdown",
   "id": "427a1dca-4c7d-4fde-a0e7-d1caed2c7c4a",
   "metadata": {},
   "source": [
    "Ans. The def (define) keyword is used to creat a function"
   ]
  },
  {
   "cell_type": "code",
   "execution_count": null,
   "id": "611cadb8-8bf1-422d-a84d-120f0423b06d",
   "metadata": {},
   "outputs": [],
   "source": []
  },
  {
   "cell_type": "code",
   "execution_count": 3,
   "id": "87ce47a7-76b4-4ca9-a03c-aca43681ccfd",
   "metadata": {},
   "outputs": [],
   "source": [
    "l = list(range(1,26))\n"
   ]
  },
  {
   "cell_type": "code",
   "execution_count": 7,
   "id": "b0a9be2b-44f3-4859-9557-789b2f5134af",
   "metadata": {},
   "outputs": [],
   "source": [
    "def odd_number(l):\n",
    "    l1=[]\n",
    "    for i in l :\n",
    "        if i % 2 != 0 :\n",
    "            l1.append(i)\n",
    "    return l1"
   ]
  },
  {
   "cell_type": "code",
   "execution_count": 8,
   "id": "9fd97bee-d5c0-4e87-8c65-3daf263f6ec3",
   "metadata": {},
   "outputs": [
    {
     "data": {
      "text/plain": [
       "[1, 3, 5, 7, 9, 11, 13, 15, 17, 19, 21, 23, 25]"
      ]
     },
     "execution_count": 8,
     "metadata": {},
     "output_type": "execute_result"
    }
   ],
   "source": [
    "odd_number(l)"
   ]
  },
  {
   "cell_type": "markdown",
   "id": "6fc10f7d-f624-42e3-b890-dbe4206a4f5c",
   "metadata": {},
   "source": [
    "Q2. Why *args and **kwargs is used in some functions? Create a function each for *args and **kwargs to demonstrate their use."
   ]
  },
  {
   "cell_type": "markdown",
   "id": "83910c87-5630-4720-a080-8a81e268f74e",
   "metadata": {},
   "source": [
    "Ans. *args is used to pass variables number to the function as a parameter.\n",
    "    Example of *args :-->\n",
    "     "
   ]
  },
  {
   "cell_type": "code",
   "execution_count": 11,
   "id": "36b3ab49-c8e5-4af4-a715-ba9351ec92a2",
   "metadata": {},
   "outputs": [],
   "source": [
    "def add(*args):\n",
    "    return sum(args)"
   ]
  },
  {
   "cell_type": "code",
   "execution_count": 12,
   "id": "ccb6446f-034c-4a4f-b691-d7a14945699b",
   "metadata": {},
   "outputs": [
    {
     "data": {
      "text/plain": [
       "25"
      ]
     },
     "execution_count": 12,
     "metadata": {},
     "output_type": "execute_result"
    }
   ],
   "source": [
    "add(3,4,5,6,7)"
   ]
  },
  {
   "cell_type": "raw",
   "id": "f642aaaa-a4eb-4e1a-8266-b1088daf3bcb",
   "metadata": {},
   "source": [
    "    **kwargs is used to pass the key and it's value to the function.\n",
    "    Example of **kwarge :-->"
   ]
  },
  {
   "cell_type": "code",
   "execution_count": 13,
   "id": "e5dc9555-ce43-4b7a-b1be-f3c5baf9bce9",
   "metadata": {},
   "outputs": [],
   "source": [
    "def function(**kwargs):\n",
    "    return kwargs"
   ]
  },
  {
   "cell_type": "code",
   "execution_count": 17,
   "id": "cbeed12a-409a-43f4-be61-2c066199136a",
   "metadata": {},
   "outputs": [
    {
     "data": {
      "text/plain": [
       "{'Name': 'Ram Sewak', 'Roll_no': 16}"
      ]
     },
     "execution_count": 17,
     "metadata": {},
     "output_type": "execute_result"
    }
   ],
   "source": [
    "function(Name = 'Ram Sewak', Roll_no = 16 )"
   ]
  },
  {
   "cell_type": "markdown",
   "id": "314d5229-9820-4804-8968-297d0f84fdf4",
   "metadata": {},
   "source": [
    "Q3. What is an iterator in python? Name the method used to initialise the iterator object and the method used for iteration.\n",
    "    Use these methods to print the first five elements of the given list [2, 4, 6, 8, 10, 12, 14,16, 18, 20]."
   ]
  },
  {
   "cell_type": "markdown",
   "id": "e3ceed0c-ee40-4d4b-9fc5-176205fa7c83",
   "metadata": {},
   "source": [
    "Ans. Iterator : It is a command / method used to iterate a iterable variable like String so we can use the next keyword / operation on it.\n",
    "     It is initialised using iter().\n",
    "     iterable_object = iter(Iterable_value)\n",
    "     iterable_ value can be a String,list but not a integer or a float value."
   ]
  },
  {
   "cell_type": "code",
   "execution_count": 20,
   "id": "3bf8774a-c5fd-4162-be4d-d992ae88b60b",
   "metadata": {},
   "outputs": [
    {
     "name": "stdout",
     "output_type": "stream",
     "text": [
      "2\n",
      "4\n",
      "6\n",
      "8\n",
      "10\n"
     ]
    }
   ],
   "source": [
    "l = [2, 4, 6, 8, 10, 12, 14,16, 18, 20]\n",
    "l1 = iter(l)\n",
    "for i in range(5):\n",
    "    print(next(l1))"
   ]
  },
  {
   "cell_type": "markdown",
   "id": "30a917ae-8b80-488d-97e7-9b5255d18049",
   "metadata": {},
   "source": [
    "Q4. What is a generator function in python? Why yield keyword is used? Give an example of a generator function."
   ]
  },
  {
   "cell_type": "markdown",
   "id": "fc2cbc6f-6d7a-410a-907b-72fd9187df33",
   "metadata": {},
   "source": [
    "Ans. A generator function is a same as a normal function only difference is that it use a yield keyword instead of a return keyword."
   ]
  },
  {
   "cell_type": "code",
   "execution_count": 21,
   "id": "696d133c-5d60-42e5-9bab-46bf0915d03d",
   "metadata": {},
   "outputs": [],
   "source": [
    "def fibo(n):\n",
    "    a,b=0,1\n",
    "    for i in range(n):\n",
    "        yield a\n",
    "        a,b=b,a+b"
   ]
  },
  {
   "cell_type": "code",
   "execution_count": 23,
   "id": "3157656a-7ebb-426f-a8fa-6318636d62ae",
   "metadata": {},
   "outputs": [
    {
     "name": "stdout",
     "output_type": "stream",
     "text": [
      "0\n",
      "1\n",
      "1\n",
      "2\n",
      "3\n",
      "5\n",
      "8\n",
      "13\n",
      "21\n",
      "34\n"
     ]
    }
   ],
   "source": [
    "fibonacci = fibo(10)\n",
    "\n",
    "for i in fibonacci:\n",
    "    print(i)"
   ]
  },
  {
   "cell_type": "markdown",
   "id": "935d4eb5-5af5-444b-9cd3-94a464fe27ad",
   "metadata": {},
   "source": [
    "Q5. Create a generator function for prime numbers less than 1000. Use the next() method to print the first 20 prime numbers."
   ]
  },
  {
   "cell_type": "code",
   "execution_count": 34,
   "id": "93fe508f-db30-40f7-a632-820961c3661b",
   "metadata": {},
   "outputs": [],
   "source": [
    "def prime():\n",
    "    n = 2\n",
    "    while True:\n",
    "        flag = 1\n",
    "        for i in range(2, int(n)):\n",
    "            if n % i == 0:\n",
    "                flag = 0\n",
    "                break\n",
    "        if flag == 1:\n",
    "            yield n\n",
    "        n += 1\n",
    "        if n >= 1000:\n",
    "            break"
   ]
  },
  {
   "cell_type": "code",
   "execution_count": 35,
   "id": "51e32365-835b-47ed-9a92-feb7012100a8",
   "metadata": {},
   "outputs": [
    {
     "name": "stdout",
     "output_type": "stream",
     "text": [
      "2\n",
      "3\n",
      "5\n",
      "7\n",
      "11\n",
      "13\n",
      "17\n",
      "19\n",
      "23\n",
      "29\n",
      "31\n",
      "37\n",
      "41\n",
      "43\n",
      "47\n",
      "53\n",
      "59\n",
      "61\n",
      "67\n",
      "71\n"
     ]
    }
   ],
   "source": [
    "p = prime()\n",
    "for i in range(20):\n",
    "    print(next(p))"
   ]
  },
  {
   "cell_type": "markdown",
   "id": "4aca4cc2-5750-410e-9e31-e2de674be97b",
   "metadata": {},
   "source": [
    "Q6. Write a python program to print the first 10 Fibonacci numbers using a while loop."
   ]
  },
  {
   "cell_type": "code",
   "execution_count": 39,
   "id": "c642cb5f-4580-4120-82c4-a61f5d11f1cd",
   "metadata": {},
   "outputs": [
    {
     "name": "stdin",
     "output_type": "stream",
     "text": [
      "Enter the Number till fibbo required =  10\n"
     ]
    },
    {
     "name": "stdout",
     "output_type": "stream",
     "text": [
      "0\n",
      "1\n",
      "1\n",
      "2\n",
      "3\n",
      "5\n",
      "8\n",
      "13\n",
      "21\n",
      "34\n"
     ]
    }
   ],
   "source": [
    "a,b=0,1\n",
    "i=0\n",
    "n = int(input(\"Enter the Number till fibbo required = \"))\n",
    "while i < n:\n",
    "    print(a)\n",
    "    a,b=b,a+b\n",
    "    i=i+1"
   ]
  },
  {
   "cell_type": "markdown",
   "id": "614bfe61-0b7a-4dea-aadc-4b396ffff3b4",
   "metadata": {},
   "source": [
    "Q7. Write a List Comprehension to iterate through the given string: ‘pwskills’.\n",
    "    Expected output: ['p', 'w', 's', 'k', 'i', 'l', 'l', 's']"
   ]
  },
  {
   "cell_type": "code",
   "execution_count": 41,
   "id": "e78f19e8-59ee-4458-8b1e-45d6db0a5af5",
   "metadata": {},
   "outputs": [
    {
     "name": "stdout",
     "output_type": "stream",
     "text": [
      "['p', 'w', 's', 'k', 'i', 'l', 'l', 's']\n"
     ]
    }
   ],
   "source": [
    "s = 'pwskills'\n",
    "l = [i for i in s]\n",
    "print(l)\n"
   ]
  },
  {
   "cell_type": "markdown",
   "id": "e6180ff8-fd7d-49a4-bfc8-5304b7a18128",
   "metadata": {},
   "source": [
    "Q8. Write a python program to check whether a given number is Palindrome or not using a while loop."
   ]
  },
  {
   "cell_type": "code",
   "execution_count": 46,
   "id": "f37c7f52-3458-410d-a960-6c220c597d31",
   "metadata": {},
   "outputs": [
    {
     "name": "stdin",
     "output_type": "stream",
     "text": [
      "Enter the Number =  78987\n"
     ]
    },
    {
     "name": "stdout",
     "output_type": "stream",
     "text": [
      "78987 is a palindrome number\n"
     ]
    }
   ],
   "source": [
    "n = int(input(\"Enter the Number = \"))\n",
    "temp = n\n",
    "reverse_num = 0\n",
    "while temp>0:\n",
    "    reminder = temp%10\n",
    "    reverse_num = (reverse_num * 10) + reminder\n",
    "    temp = temp//10\n",
    "if n==reverse_num:\n",
    "    print(n, \"is a palindrome number\")\n",
    "else:\n",
    "    print(n, \"is a not palindrome number\")"
   ]
  },
  {
   "cell_type": "markdown",
   "id": "79f15f21-f8dc-4f94-8320-6c6dd3b1b5fc",
   "metadata": {},
   "source": [
    "Q9. Write a code to print odd numbers from 1 to 100 using list comprehension.\n",
    "Note: Use a list comprehension to create a list from 1 to 100 and use another List comprehension to filter\n",
    "out odd numbers."
   ]
  },
  {
   "cell_type": "code",
   "execution_count": 49,
   "id": "4c6a1ddc-be5e-4316-9e64-f21d30a2d43a",
   "metadata": {},
   "outputs": [
    {
     "name": "stdout",
     "output_type": "stream",
     "text": [
      "[1, 3, 5, 7, 9, 11, 13, 15, 17, 19, 21, 23, 25, 27, 29, 31, 33, 35, 37, 39, 41, 43, 45, 47, 49, 51, 53, 55, 57, 59, 61, 63, 65, 67, 69, 71, 73, 75, 77, 79, 81, 83, 85, 87, 89, 91, 93, 95, 97, 99]\n"
     ]
    }
   ],
   "source": [
    "l1 = [i for i in range(1,101)]\n",
    "l2 = [i for i in l1 if i % 2 != 0]\n",
    "print(l2)"
   ]
  }
 ],
 "metadata": {
  "kernelspec": {
   "display_name": "Python 3 (ipykernel)",
   "language": "python",
   "name": "python3"
  },
  "language_info": {
   "codemirror_mode": {
    "name": "ipython",
    "version": 3
   },
   "file_extension": ".py",
   "mimetype": "text/x-python",
   "name": "python",
   "nbconvert_exporter": "python",
   "pygments_lexer": "ipython3",
   "version": "3.10.8"
  }
 },
 "nbformat": 4,
 "nbformat_minor": 5
}
